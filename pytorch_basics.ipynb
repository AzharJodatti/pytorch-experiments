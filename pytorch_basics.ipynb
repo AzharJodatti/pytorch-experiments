{
  "nbformat": 4,
  "nbformat_minor": 0,
  "metadata": {
    "colab": {
      "provenance": [],
      "toc_visible": true,
      "gpuType": "T4",
      "authorship_tag": "ABX9TyOzjQBL2V0UBpGWpqw4on+I",
      "include_colab_link": true
    },
    "kernelspec": {
      "name": "python3",
      "display_name": "Python 3"
    },
    "language_info": {
      "name": "python"
    },
    "accelerator": "GPU"
  },
  "cells": [
    {
      "cell_type": "markdown",
      "metadata": {
        "id": "view-in-github",
        "colab_type": "text"
      },
      "source": [
        "<a href=\"https://colab.research.google.com/github/AzharJodatti/pytorch-experiments/blob/main/pytorch_basics.ipynb\" target=\"_parent\"><img src=\"https://colab.research.google.com/assets/colab-badge.svg\" alt=\"Open In Colab\"/></a>"
      ]
    },
    {
      "cell_type": "code",
      "execution_count": 9,
      "metadata": {
        "id": "LKd7965ycGeU"
      },
      "outputs": [],
      "source": [
        "import torch"
      ]
    },
    {
      "cell_type": "code",
      "source": [
        "torch.__version__"
      ],
      "metadata": {
        "colab": {
          "base_uri": "https://localhost:8080/",
          "height": 35
        },
        "id": "aXLQuxyRcyLy",
        "outputId": "f54bac11-b6dc-46f6-fdfd-ce0998b0c1a7"
      },
      "execution_count": 10,
      "outputs": [
        {
          "output_type": "execute_result",
          "data": {
            "text/plain": [
              "'2.3.1+cu121'"
            ],
            "application/vnd.google.colaboratory.intrinsic+json": {
              "type": "string"
            }
          },
          "metadata": {},
          "execution_count": 10
        }
      ]
    },
    {
      "cell_type": "markdown",
      "source": [
        " # Tensor"
      ],
      "metadata": {
        "id": "YQQTmvZn0kur"
      }
    },
    {
      "cell_type": "markdown",
      "source": [
        "## Basic operations [scalar, vector, metrix, tensor)"
      ],
      "metadata": {
        "id": "26hI1zfS2KW0"
      }
    },
    {
      "cell_type": "code",
      "source": [
        "#scalar tensor : single value\n",
        "scalar = torch.tensor(7)\n",
        "scalar, scalar.ndim, scalar.shape"
      ],
      "metadata": {
        "colab": {
          "base_uri": "https://localhost:8080/"
        },
        "id": "eh5m2BsOdsLt",
        "outputId": "cc8f75e3-92df-4fb2-bc2f-402f43bc6ef1"
      },
      "execution_count": 15,
      "outputs": [
        {
          "output_type": "execute_result",
          "data": {
            "text/plain": [
              "(tensor(7), 0, torch.Size([]))"
            ]
          },
          "metadata": {},
          "execution_count": 15
        }
      ]
    },
    {
      "cell_type": "code",
      "source": [
        "#vector tensor : represent 2 values\n",
        "vector = torch.tensor([7,8])\n",
        "vector, vector.ndim, vector.shape"
      ],
      "metadata": {
        "colab": {
          "base_uri": "https://localhost:8080/"
        },
        "id": "EC-Mj0-peHDM",
        "outputId": "9355b7e8-57bf-4019-fca1-9f5f9d0831a0"
      },
      "execution_count": 18,
      "outputs": [
        {
          "output_type": "execute_result",
          "data": {
            "text/plain": [
              "(tensor([7, 8]), 1, torch.Size([2]))"
            ]
          },
          "metadata": {},
          "execution_count": 18
        }
      ]
    },
    {
      "cell_type": "code",
      "source": [
        "#metrix tensor\n",
        "metrix = torch.tensor([\n",
        "                                  [7,8,4],\n",
        "                                  [9,10,4],\n",
        "                                  [11,12,4],\n",
        "                                  [0,1,4]\n",
        "                                ])\n",
        "metrix, metrix.ndim, metrix.shape\n"
      ],
      "metadata": {
        "colab": {
          "base_uri": "https://localhost:8080/"
        },
        "id": "NoiKP241eNto",
        "outputId": "59bd793e-0808-4691-df77-0d74d9eda5cb"
      },
      "execution_count": 80,
      "outputs": [
        {
          "output_type": "execute_result",
          "data": {
            "text/plain": [
              "(tensor([[ 7,  8,  4],\n",
              "         [ 9, 10,  4],\n",
              "         [11, 12,  4],\n",
              "         [ 0,  1,  4]]),\n",
              " 2,\n",
              " torch.Size([4, 3]))"
            ]
          },
          "metadata": {},
          "execution_count": 80
        }
      ]
    },
    {
      "cell_type": "code",
      "source": [
        "#tensor\n",
        "tensor = torch.tensor([\n",
        "                                  [\n",
        "                                      [1,2,3],\n",
        "                                      [4,5,6],\n",
        "                                      [7,8,9]\n",
        "                                  ],\n",
        "                                  [\n",
        "                                      [11,12,13],\n",
        "                                      [14,15,16],\n",
        "                                      [17,18,19]\n",
        "                                  ],\n",
        "                                  [\n",
        "                                      [21,22,23],\n",
        "                                      [24,25,26],\n",
        "                                      [27,28,29]\n",
        "                                  ]\n",
        "                                ])\n",
        "tensor, tensor.ndim, tensor.shape\n"
      ],
      "metadata": {
        "colab": {
          "base_uri": "https://localhost:8080/"
        },
        "id": "PGWCVkYdfp7T",
        "outputId": "b118e782-9af5-4150-ef94-ae2ef9335e4a"
      },
      "execution_count": 50,
      "outputs": [
        {
          "output_type": "execute_result",
          "data": {
            "text/plain": [
              "(tensor([[[ 1,  2,  3],\n",
              "          [ 4,  5,  6],\n",
              "          [ 7,  8,  9]],\n",
              " \n",
              "         [[11, 12, 13],\n",
              "          [14, 15, 16],\n",
              "          [17, 18, 19]],\n",
              " \n",
              "         [[21, 22, 23],\n",
              "          [24, 25, 26],\n",
              "          [27, 28, 29]]]),\n",
              " 3,\n",
              " torch.Size([3, 3, 3]))"
            ]
          },
          "metadata": {},
          "execution_count": 50
        }
      ]
    },
    {
      "cell_type": "code",
      "source": [
        "#tensor operations (+, - , /, *) element wise\n",
        "t1 = torch.tensor([1,2,3])\n",
        "t2 = torch.tensor([4,5,6])\n",
        "t1+t2, t1+10 , t2-t1, t2-1,t1/t2, t1/2, t1*t2, t1*2"
      ],
      "metadata": {
        "colab": {
          "base_uri": "https://localhost:8080/"
        },
        "id": "Qz7O06d5Agun",
        "outputId": "d9a619b8-14cc-4f44-ca88-0525cc57aeef"
      },
      "execution_count": 129,
      "outputs": [
        {
          "output_type": "execute_result",
          "data": {
            "text/plain": [
              "(tensor([5, 7, 9]),\n",
              " tensor([11, 12, 13]),\n",
              " tensor([3, 3, 3]),\n",
              " tensor([3, 4, 5]),\n",
              " tensor([0.2500, 0.4000, 0.5000]),\n",
              " tensor([0.5000, 1.0000, 1.5000]),\n",
              " tensor([ 4, 10, 18]),\n",
              " tensor([2, 4, 6]))"
            ]
          },
          "metadata": {},
          "execution_count": 129
        }
      ]
    },
    {
      "cell_type": "code",
      "source": [
        "#metrix multiplication\n",
        "t1= torch.tensor([\n",
        "                            [1,2,3,4],\n",
        "                            [7,8,9,8],\n",
        "                            [1,2,3,4],\n",
        "                            [7,8,9,8]\n",
        "                        ])\n",
        "t2 = torch.tensor([\n",
        "                            [4,5,6],\n",
        "                            [1,2,3],\n",
        "                            [3,4,5],\n",
        "                            [6,7,8]\n",
        "                         ])\n",
        "'''\n",
        "t3 = []\n",
        "'''\n",
        "\n",
        "t3 = t1 @ t2\n",
        "t1.shape, t2.shape,t3.shape, t3"
      ],
      "metadata": {
        "colab": {
          "base_uri": "https://localhost:8080/"
        },
        "id": "9UU5_E9pgq78",
        "outputId": "56674357-27f4-44a6-a7a6-5a84b4e33c5e"
      },
      "execution_count": 118,
      "outputs": [
        {
          "output_type": "execute_result",
          "data": {
            "text/plain": [
              "(torch.Size([4, 4]),\n",
              " torch.Size([4, 3]),\n",
              " torch.Size([4, 3]),\n",
              " tensor([[ 39,  49,  59],\n",
              "         [111, 143, 175],\n",
              "         [ 39,  49,  59],\n",
              "         [111, 143, 175]]))"
            ]
          },
          "metadata": {},
          "execution_count": 118
        }
      ]
    },
    {
      "cell_type": "code",
      "source": [
        "#tensor multiplication\n",
        "t1= torch.tensor([\n",
        "                            [1,2],\n",
        "                            [3,4]\n",
        "                        ])\n",
        "t2 = torch.tensor([\n",
        "                            [5,7],\n",
        "                            [6,8]\n",
        "                         ])\n",
        "t3 = t1 * t2\n",
        "t1.shape, t2.shape,t3.shape, t3"
      ],
      "metadata": {
        "colab": {
          "base_uri": "https://localhost:8080/"
        },
        "id": "gld5ab3BvtDR",
        "outputId": "ee939219-22e2-4d79-f1e2-13a363b827ed"
      },
      "execution_count": 119,
      "outputs": [
        {
          "output_type": "execute_result",
          "data": {
            "text/plain": [
              "(torch.Size([2, 2]),\n",
              " torch.Size([2, 2]),\n",
              " torch.Size([2, 2]),\n",
              " tensor([[ 5, 14],\n",
              "         [18, 32]]))"
            ]
          },
          "metadata": {},
          "execution_count": 119
        }
      ]
    },
    {
      "cell_type": "code",
      "source": [
        "#transponse\n",
        "t1= torch.tensor([\n",
        "                            [1,2,3,4],\n",
        "                            [7,8,9,8],\n",
        "                            [1,2,3,4],\n",
        "                            [7,8,9,8]\n",
        "                        ])\n",
        "t2 = torch.tensor([\n",
        "                            [7,8,9,8],\n",
        "                            [1,2,3,4],\n",
        "                            [7,8,9,8]\n",
        "                         ])\n",
        "#t1 @ t2.T or\n",
        "torch.matmul(t1,t2.T)\n",
        "#torch.mm(t1,t2.T)\n",
        "\n"
      ],
      "metadata": {
        "colab": {
          "base_uri": "https://localhost:8080/"
        },
        "id": "Vu0J_zSt2cXA",
        "outputId": "63f43b14-bb87-4683-843e-76e2c025dbfe"
      },
      "execution_count": 22,
      "outputs": [
        {
          "output_type": "execute_result",
          "data": {
            "text/plain": [
              "tensor([[ 82,  30,  82],\n",
              "        [258,  82, 258],\n",
              "        [ 82,  30,  82],\n",
              "        [258,  82, 258]])"
            ]
          },
          "metadata": {},
          "execution_count": 22
        }
      ]
    },
    {
      "cell_type": "markdown",
      "source": [
        "## ways to create or initialize tensors"
      ],
      "metadata": {
        "id": "OuqKPXzT1-Yu"
      }
    },
    {
      "cell_type": "code",
      "source": [
        "random = torch.rand(3,4, dtype=torch.float16)\n",
        "random"
      ],
      "metadata": {
        "colab": {
          "base_uri": "https://localhost:8080/"
        },
        "id": "Mrp0XuDw0yWS",
        "outputId": "08592b5c-a18e-420c-dbcc-8d654a6ca9c3"
      },
      "execution_count": 94,
      "outputs": [
        {
          "output_type": "execute_result",
          "data": {
            "text/plain": [
              "tensor([[0.9048, 0.9062, 0.1196, 0.9727],\n",
              "        [0.6650, 0.2876, 0.8203, 0.6670],\n",
              "        [0.4229, 0.2949, 0.2710, 0.0337]], dtype=torch.float16)"
            ]
          },
          "metadata": {},
          "execution_count": 94
        }
      ]
    },
    {
      "cell_type": "code",
      "source": [
        "ones = torch.ones(3,5, dtype=torch.float16)\n",
        "ones"
      ],
      "metadata": {
        "colab": {
          "base_uri": "https://localhost:8080/"
        },
        "id": "71__Hft225Lx",
        "outputId": "525e16b3-311b-4f58-c6e9-cdf07ebcb91b"
      },
      "execution_count": 105,
      "outputs": [
        {
          "output_type": "execute_result",
          "data": {
            "text/plain": [
              "tensor([[1., 1., 1., 1., 1.],\n",
              "        [1., 1., 1., 1., 1.],\n",
              "        [1., 1., 1., 1., 1.]], dtype=torch.float16)"
            ]
          },
          "metadata": {},
          "execution_count": 105
        }
      ]
    },
    {
      "cell_type": "code",
      "source": [
        "zeros = torch.zeros(3,4, dtype=torch.float16)\n",
        "zeros"
      ],
      "metadata": {
        "colab": {
          "base_uri": "https://localhost:8080/"
        },
        "id": "KDgK9sEZ26bv",
        "outputId": "61c509ec-e564-44de-b218-59c6eaa31ab3"
      },
      "execution_count": 96,
      "outputs": [
        {
          "output_type": "execute_result",
          "data": {
            "text/plain": [
              "tensor([[0., 0., 0., 0.],\n",
              "        [0., 0., 0., 0.],\n",
              "        [0., 0., 0., 0.]], dtype=torch.float16)"
            ]
          },
          "metadata": {},
          "execution_count": 96
        }
      ]
    },
    {
      "cell_type": "code",
      "source": [
        "series = torch.arange(0,10, 2)\n",
        "series"
      ],
      "metadata": {
        "colab": {
          "base_uri": "https://localhost:8080/"
        },
        "id": "P8QG2b3M27R2",
        "outputId": "e7085d8d-97a3-4205-da2f-4474fd368c8c"
      },
      "execution_count": 102,
      "outputs": [
        {
          "output_type": "execute_result",
          "data": {
            "text/plain": [
              "tensor([0, 2, 4, 6, 8])"
            ]
          },
          "metadata": {},
          "execution_count": 102
        }
      ]
    },
    {
      "cell_type": "code",
      "source": [
        "# creates tensor with zeros with the same shape as other tensor\n",
        "copy_shape = torch.zeros_like(ones)\n",
        "copy_shape"
      ],
      "metadata": {
        "colab": {
          "base_uri": "https://localhost:8080/"
        },
        "id": "iJ8u2HTz3izH",
        "outputId": "176c11ea-5bb1-4b99-889b-206080d28f35"
      },
      "execution_count": 108,
      "outputs": [
        {
          "output_type": "execute_result",
          "data": {
            "text/plain": [
              "tensor([[0., 0., 0., 0., 0.],\n",
              "        [0., 0., 0., 0., 0.],\n",
              "        [0., 0., 0., 0., 0.]], dtype=torch.float16)"
            ]
          },
          "metadata": {},
          "execution_count": 108
        }
      ]
    },
    {
      "cell_type": "markdown",
      "source": [
        "## getting data back from tensors"
      ],
      "metadata": {
        "id": "Tr3H3gOQ_XfU"
      }
    },
    {
      "cell_type": "code",
      "source": [
        "tensor = torch.rand(3,4)\n",
        "tensor[0],tensor[1],tensor[2], tensor.shape, tensor.dtype, tensor.device\n",
        "\n"
      ],
      "metadata": {
        "colab": {
          "base_uri": "https://localhost:8080/"
        },
        "id": "mjSenk7J_eVZ",
        "outputId": "055ad8aa-c096-4775-cf3d-e765bbdf2722"
      },
      "execution_count": 116,
      "outputs": [
        {
          "output_type": "execute_result",
          "data": {
            "text/plain": [
              "(tensor([0.0959, 0.1779, 0.4378, 0.1076]),\n",
              " tensor([0.2131, 0.5699, 0.2321, 0.6098]),\n",
              " tensor([0.3166, 0.4207, 0.7670, 0.1405]),\n",
              " torch.Size([3, 4]),\n",
              " torch.float32,\n",
              " device(type='cpu'))"
            ]
          },
          "metadata": {},
          "execution_count": 116
        }
      ]
    },
    {
      "cell_type": "markdown",
      "source": [],
      "metadata": {
        "id": "bJvFWNXpu9F3"
      }
    },
    {
      "cell_type": "markdown",
      "source": [
        "# excercises"
      ],
      "metadata": {
        "id": "Dypb1EJcvHNZ"
      }
    },
    {
      "cell_type": "code",
      "source": [
        "#Create a random tensor with shape (7, 7).\n",
        "tensor = torch.rand(7,7)\n",
        "tensor"
      ],
      "metadata": {
        "colab": {
          "base_uri": "https://localhost:8080/"
        },
        "id": "wCHmNFPOvOsw",
        "outputId": "f7d588e3-f405-40e4-ff7f-8663307f1b6f"
      },
      "execution_count": 5,
      "outputs": [
        {
          "output_type": "execute_result",
          "data": {
            "text/plain": [
              "tensor([[0.3708, 0.7887, 0.1284, 0.9256, 0.5010, 0.4355, 0.4407],\n",
              "        [0.6745, 0.9836, 0.6824, 0.0692, 0.5322, 0.8846, 0.8869],\n",
              "        [0.4192, 0.9884, 0.0917, 0.7170, 0.0611, 0.9354, 0.4750],\n",
              "        [0.5073, 0.6735, 0.5677, 0.5623, 0.7096, 0.8763, 0.9784],\n",
              "        [0.9796, 0.9573, 0.2074, 0.4486, 0.1897, 0.7805, 0.7817],\n",
              "        [0.2003, 0.8216, 0.4452, 0.9739, 0.8578, 0.9618, 0.7562],\n",
              "        [0.3349, 0.1088, 0.6011, 0.6993, 0.3176, 0.8459, 0.5774]])"
            ]
          },
          "metadata": {},
          "execution_count": 5
        }
      ]
    },
    {
      "cell_type": "code",
      "source": [
        "#Perform a matrix multiplication on the tensor from 2 with another random tensor with shape (1, 7) (hint: you may have to transpose the second tensor).\n",
        "t1 = torch.rand(7,7)\n",
        "t2 = torch.rand(1,7)\n",
        "t3 = t1 @ t2.T\n",
        "t3\n",
        "#"
      ],
      "metadata": {
        "colab": {
          "base_uri": "https://localhost:8080/"
        },
        "id": "Pih80fvGvYnu",
        "outputId": "d6f008bc-0788-41c6-e963-8ee327bf5e9d"
      },
      "execution_count": 8,
      "outputs": [
        {
          "output_type": "execute_result",
          "data": {
            "text/plain": [
              "tensor([[2.2980],\n",
              "        [2.0229],\n",
              "        [2.0044],\n",
              "        [2.1989],\n",
              "        [1.6013],\n",
              "        [2.2278],\n",
              "        [2.5185]])"
            ]
          },
          "metadata": {},
          "execution_count": 8
        }
      ]
    },
    {
      "cell_type": "code",
      "source": [
        "#Set the random seed to 0 and do exercises 2 & 3 over again.\n",
        "torch.manual_seed(37)\n",
        "t1 = torch.rand(7,7)\n",
        "t2 = torch.rand(1,7)\n",
        "t3 = t1 @ t2.T\n",
        "t3\n",
        "\n"
      ],
      "metadata": {
        "colab": {
          "base_uri": "https://localhost:8080/"
        },
        "id": "vr0KIHV0vp4M",
        "outputId": "a877fd7c-752c-426e-f9f6-9a8bf7759993"
      },
      "execution_count": 11,
      "outputs": [
        {
          "output_type": "execute_result",
          "data": {
            "text/plain": [
              "tensor([[1.4401],\n",
              "        [1.0694],\n",
              "        [1.3668],\n",
              "        [1.2718],\n",
              "        [1.2712],\n",
              "        [1.2519],\n",
              "        [1.3262]])"
            ]
          },
          "metadata": {},
          "execution_count": 11
        }
      ]
    },
    {
      "cell_type": "code",
      "source": [
        "#Speaking of random seeds, we saw how to set it with torch.manual_seed() but is there a GPU equivalent? (hint: you'll need to look into the documentation for torch.cuda for this one). If there is, set the GPU random seed to 1234\n",
        "torch.cuda.is_available()\n",
        "print(torch.cuda.device_count())\n",
        "torch.cuda.manual_seed(37)\n",
        "t1 = torch.rand(7,7, device=\"cuda\")\n",
        "t2 = torch.rand(1,7, device=\"cuda\")\n",
        "t3 = t1 @ t2.T\n",
        "t3"
      ],
      "metadata": {
        "colab": {
          "base_uri": "https://localhost:8080/"
        },
        "id": "mNA-k05iwPr5",
        "outputId": "4de9277b-98b9-4f07-e137-a24b3bb517fd"
      },
      "execution_count": 10,
      "outputs": [
        {
          "output_type": "stream",
          "name": "stdout",
          "text": [
            "1\n"
          ]
        },
        {
          "output_type": "execute_result",
          "data": {
            "text/plain": [
              "tensor([[2.2589],\n",
              "        [1.9645],\n",
              "        [1.4159],\n",
              "        [1.9218],\n",
              "        [2.0059],\n",
              "        [1.3681],\n",
              "        [1.1922]], device='cuda:0')"
            ]
          },
          "metadata": {},
          "execution_count": 10
        }
      ]
    },
    {
      "cell_type": "code",
      "source": [
        "#Create two random tensors of shape (2, 3) and send them both to the GPU (you'll need access to a GPU for this). Set torch.manual_seed(1234) when creating the tensors (this doesn't have to be the GPU random seed).\n",
        "device = \"cuda\" if torch.cuda.is_available() else \"cpu\"\n",
        "generator = torch.Generator()\n",
        "generator.manual_seed(37)\n",
        "t1 = torch.rand(7,7,generator=generator)\n",
        "t2 = torch.rand(1,7,generator=generator)\n",
        "t1_gpu = t1.to(device)\n",
        "t2_gpu = t2.to(device)\n",
        "t3_gpu = t1_gpu @ t2_gpu.T\n",
        "\n",
        "#t3, t3_gpu.device, torch.cuda.seed(), torch.cuda.current_device(), torch.cuda.device_count(), torch.cuda.get_device_name(0)\n",
        "t3_gpu\n"
      ],
      "metadata": {
        "colab": {
          "base_uri": "https://localhost:8080/"
        },
        "id": "ov3j9xGNxYVv",
        "outputId": "def9e49b-02ae-40cf-976d-41ca8b884730"
      },
      "execution_count": 41,
      "outputs": [
        {
          "output_type": "execute_result",
          "data": {
            "text/plain": [
              "tensor([[1.4401],\n",
              "        [1.0694],\n",
              "        [1.3668],\n",
              "        [1.2718],\n",
              "        [1.2712],\n",
              "        [1.2519],\n",
              "        [1.3262]], device='cuda:0')"
            ]
          },
          "metadata": {},
          "execution_count": 41
        }
      ]
    },
    {
      "cell_type": "code",
      "source": [
        "#Find the maximum and minimum values of the output of 7.\n",
        "t3_gpu.min(), t3_gpu.max(), t3_gpu.mean()"
      ],
      "metadata": {
        "colab": {
          "base_uri": "https://localhost:8080/"
        },
        "id": "gCvHqnbG5Jg7",
        "outputId": "9fce36df-5295-4b39-9e42-17c5587aaaac"
      },
      "execution_count": 46,
      "outputs": [
        {
          "output_type": "execute_result",
          "data": {
            "text/plain": [
              "(tensor(1.0694, device='cuda:0'),\n",
              " tensor(1.4401, device='cuda:0'),\n",
              " tensor(1.2853, device='cuda:0'))"
            ]
          },
          "metadata": {},
          "execution_count": 46
        }
      ]
    },
    {
      "cell_type": "code",
      "source": [
        "#Find the maximum and minimum index values of the output of 7.\n",
        "t3_gpu.argmin(), t3_gpu.argmax()\n"
      ],
      "metadata": {
        "colab": {
          "base_uri": "https://localhost:8080/"
        },
        "id": "l2KG0Tzt6ONh",
        "outputId": "75b1af65-e5f3-4537-b308-517e28746d8e"
      },
      "execution_count": 55,
      "outputs": [
        {
          "output_type": "execute_result",
          "data": {
            "text/plain": [
              "(tensor(1, device='cuda:0'), tensor(0, device='cuda:0'))"
            ]
          },
          "metadata": {},
          "execution_count": 55
        }
      ]
    },
    {
      "cell_type": "code",
      "source": [
        "t3 = t3_gpu.cpu()\n",
        "t3, t3.device"
      ],
      "metadata": {
        "colab": {
          "base_uri": "https://localhost:8080/"
        },
        "id": "zPsoQCXV7WLD",
        "outputId": "22b185b3-7f27-4a92-eab8-6664183cabb7"
      },
      "execution_count": 58,
      "outputs": [
        {
          "output_type": "execute_result",
          "data": {
            "text/plain": [
              "(tensor([[1.4401],\n",
              "         [1.0694],\n",
              "         [1.3668],\n",
              "         [1.2718],\n",
              "         [1.2712],\n",
              "         [1.2519],\n",
              "         [1.3262]]),\n",
              " device(type='cpu'))"
            ]
          },
          "metadata": {},
          "execution_count": 58
        }
      ]
    },
    {
      "cell_type": "code",
      "source": [
        "#argwhere\n",
        "t1 = torch.rand(1,3,4)\n",
        "t1[:,0,:] = 0\n",
        "t1, t1.argwhere()"
      ],
      "metadata": {
        "colab": {
          "base_uri": "https://localhost:8080/"
        },
        "id": "1ezgfnQO7lRJ",
        "outputId": "73641df7-8391-43dd-a7d7-f661a9ef1428"
      },
      "execution_count": 64,
      "outputs": [
        {
          "output_type": "execute_result",
          "data": {
            "text/plain": [
              "(tensor([[[0.0000, 0.0000, 0.0000, 0.0000],\n",
              "          [0.8754, 0.0660, 0.1918, 0.8386],\n",
              "          [0.8107, 0.4381, 0.0955, 0.5768]]]),\n",
              " tensor([[0, 1, 0],\n",
              "         [0, 1, 1],\n",
              "         [0, 1, 2],\n",
              "         [0, 1, 3],\n",
              "         [0, 2, 0],\n",
              "         [0, 2, 1],\n",
              "         [0, 2, 2],\n",
              "         [0, 2, 3]]))"
            ]
          },
          "metadata": {},
          "execution_count": 64
        }
      ]
    },
    {
      "cell_type": "code",
      "source": [
        "from typing import Generator\n",
        "generator = torch.Generator()\n",
        "generator.manual_seed(7)\n",
        "t1 = torch.rand(1,1,1,10,generator=generator)\n",
        "\n",
        "t2 = t1.squeeze()\n",
        "\n",
        "t1, t1.shape,t2, t2.shape"
      ],
      "metadata": {
        "colab": {
          "base_uri": "https://localhost:8080/"
        },
        "id": "6QBGdInz-GP3",
        "outputId": "c850c0a7-4b07-432d-b029-f11f4c0b9fdb"
      },
      "execution_count": 84,
      "outputs": [
        {
          "output_type": "execute_result",
          "data": {
            "text/plain": [
              "(tensor([[[[0.5349, 0.1988, 0.6592, 0.6569, 0.2328, 0.4251, 0.2071, 0.6297,\n",
              "            0.3653, 0.8513]]]]),\n",
              " torch.Size([1, 1, 1, 10]),\n",
              " tensor([0.5349, 0.1988, 0.6592, 0.6569, 0.2328, 0.4251, 0.2071, 0.6297, 0.3653,\n",
              "         0.8513]),\n",
              " torch.Size([10]))"
            ]
          },
          "metadata": {},
          "execution_count": 84
        }
      ]
    },
    {
      "cell_type": "markdown",
      "source": [
        "# workflow"
      ],
      "metadata": {
        "id": "rhVzSbi1t2do"
      }
    },
    {
      "cell_type": "markdown",
      "source": [
        "## prepare the data and load"
      ],
      "metadata": {
        "id": "Vheyb6WvuDD5"
      }
    },
    {
      "cell_type": "code",
      "source": [
        "#imports\n",
        "import torch\n",
        "from torch import nn\n",
        "import matplotlib.pyplot as plt\n",
        "device = \"cuda\" if torch.cuda.is_available() else \"cpu\""
      ],
      "metadata": {
        "id": "UtegMDn41Znm"
      },
      "execution_count": 11,
      "outputs": []
    },
    {
      "cell_type": "code",
      "source": [
        "# create known parameters\n",
        "weight = 0.7\n",
        "bias = 0.3\n",
        "\n",
        "#create data\n",
        "start = 0\n",
        "end = 1\n",
        "step = 0.02\n",
        "X = torch.arange(start,end,step).unsqueeze(dim=1)\n",
        "y = weight * X + bias\n",
        "\n",
        "X[:5] , X.shape, y[:5], y.shape"
      ],
      "metadata": {
        "colab": {
          "base_uri": "https://localhost:8080/"
        },
        "id": "vQegNSxlu3uO",
        "outputId": "3ebbe133-e0d5-4a11-c796-3b31eaff923e"
      },
      "execution_count": 12,
      "outputs": [
        {
          "output_type": "execute_result",
          "data": {
            "text/plain": [
              "(tensor([[0.0000],\n",
              "         [0.0200],\n",
              "         [0.0400],\n",
              "         [0.0600],\n",
              "         [0.0800]]),\n",
              " torch.Size([50, 1]),\n",
              " tensor([[0.3000],\n",
              "         [0.3140],\n",
              "         [0.3280],\n",
              "         [0.3420],\n",
              "         [0.3560]]),\n",
              " torch.Size([50, 1]))"
            ]
          },
          "metadata": {},
          "execution_count": 12
        }
      ]
    },
    {
      "cell_type": "code",
      "source": [
        "#split the data into training and test set by 80:20 rule\n",
        "train_split = int(0.8 * len(X))\n",
        "X_train, y_train = X[:train_split].to(device=device), y[:train_split].to(device=device)\n",
        "X_test, y_test = X[train_split:].to(device), y[train_split:].to(device)\n",
        "\n",
        "X_train.shape, y_train.shape, X_test.shape, y_test.shape"
      ],
      "metadata": {
        "colab": {
          "base_uri": "https://localhost:8080/"
        },
        "id": "ZeD9jRY516Jj",
        "outputId": "df7546a8-c967-4062-826f-fcd6a952a6de"
      },
      "execution_count": 13,
      "outputs": [
        {
          "output_type": "execute_result",
          "data": {
            "text/plain": [
              "(torch.Size([40, 1]),\n",
              " torch.Size([40, 1]),\n",
              " torch.Size([10, 1]),\n",
              " torch.Size([10, 1]))"
            ]
          },
          "metadata": {},
          "execution_count": 13
        }
      ]
    },
    {
      "cell_type": "code",
      "source": [
        "#plaot prediction\n",
        "def plot_predictions(train_data=X_train.cpu(),\n",
        "                      train_labels=y_train.cpu(),\n",
        "                      test_data=X_test.cpu(),\n",
        "                      test_labels=y_test.cpu(),\n",
        "                      predictions=None):\n",
        "  \"\"\"\n",
        "  Plots training data, test data and compares predictions.\n",
        "  \"\"\"\n",
        "  plt.figure(figsize=(10, 7))\n",
        "  # Plot training data in blue\n",
        "  plt.scatter(train_data, train_labels, c=\"b\", s=4, label=\"Training data\")\n",
        "  # Plot test data in green\n",
        "  plt.scatter(test_data, test_labels, c=\"g\", s=4, label=\"Testing data\")\n",
        "  if predictions is not None:\n",
        "    # Plot the predictions in red (predictions were made on the test data)\n",
        "    plt.scatter(test_data, predictions.cpu(), c=\"r\", s=4, label=\"Predictions\")\n"
      ],
      "metadata": {
        "id": "CC46zR6W2KaQ"
      },
      "execution_count": 14,
      "outputs": []
    },
    {
      "cell_type": "code",
      "source": [
        "plot_predictions()"
      ],
      "metadata": {
        "colab": {
          "base_uri": "https://localhost:8080/",
          "height": 599
        },
        "id": "_k-71JZ820Uf",
        "outputId": "af184aaf-3bd2-41ea-8a9f-7b438921c704"
      },
      "execution_count": 15,
      "outputs": [
        {
          "output_type": "display_data",
          "data": {
            "text/plain": [
              "<Figure size 1000x700 with 1 Axes>"
            ],
            "image/png": "[encoded data removed]"
          },
          "metadata": {}
        }
      ]
    },
    {
      "cell_type": "markdown",
      "source": [
        "##  build the model"
      ],
      "metadata": {
        "id": "PhyxJIUGuVbq"
      }
    },
    {
      "cell_type": "code",
      "source": [
        "from torch import nn\n",
        "class MLP(nn.Module):\n",
        "  def __init__(self):\n",
        "    super().__init__()\n",
        "    self.weight = nn.Parameter(torch.randn(1, requires_grad=True, dtype=torch.float))\n",
        "    self.bias = nn.Parameter(torch.randn(1, requires_grad=True, dtype=torch.float))\n",
        "\n",
        "  def forward(self, x:torch.Tensor) -> torch.Tensor:\n",
        "    return self.weight * x + self.bias\n",
        "\n",
        "\n",
        "torch.manual_seed(37)\n",
        "model = MLP().to(device)\n",
        "\n"
      ],
      "metadata": {
        "id": "zhlgrWQ13JYv"
      },
      "execution_count": 16,
      "outputs": []
    },
    {
      "cell_type": "code",
      "source": [
        "#initial test\n",
        "with torch.inference_mode():\n",
        "  y_pred = model(X_test.to(device))\n",
        "y_pred # bad predictions"
      ],
      "metadata": {
        "colab": {
          "base_uri": "https://localhost:8080/"
        },
        "id": "t8reuFei3sf2",
        "outputId": "b43c4152-e6dc-4f01-cb64-a4cb7eb5cc2f"
      },
      "execution_count": 17,
      "outputs": [
        {
          "output_type": "execute_result",
          "data": {
            "text/plain": [
              "tensor([[0.5637],\n",
              "        [0.5529],\n",
              "        [0.5421],\n",
              "        [0.5313],\n",
              "        [0.5205],\n",
              "        [0.5097],\n",
              "        [0.4990],\n",
              "        [0.4882],\n",
              "        [0.4774],\n",
              "        [0.4666]])"
            ]
          },
          "metadata": {},
          "execution_count": 17
        }
      ]
    },
    {
      "cell_type": "code",
      "source": [
        "plot_predictions(predictions=y_pred)"
      ],
      "metadata": {
        "colab": {
          "base_uri": "https://localhost:8080/",
          "height": 599
        },
        "id": "jG-CJg4A4PcI",
        "outputId": "fa451366-aaf6-4d7d-af9e-114bc2d521f4"
      },
      "execution_count": 18,
      "outputs": [
        {
          "output_type": "display_data",
          "data": {
            "text/plain": [
              "<Figure size 1000x700 with 1 Axes>"
            ],
            "image/png": "[encoded data removed]"
          },
          "metadata": {}
        }
      ]
    },
    {
      "cell_type": "markdown",
      "source": [
        "## training"
      ],
      "metadata": {
        "id": "dKS7JyDFukhz"
      }
    },
    {
      "cell_type": "code",
      "source": [
        "model.state_dict()"
      ],
      "metadata": {
        "colab": {
          "base_uri": "https://localhost:8080/"
        },
        "id": "1yQG3Nvj5iOf",
        "outputId": "3bb1ff02-de32-4fcc-faea-16f0d32e9261"
      },
      "execution_count": 19,
      "outputs": [
        {
          "output_type": "execute_result",
          "data": {
            "text/plain": [
              "OrderedDict([('weight', tensor([-0.5394])), ('bias', tensor([0.9952]))])"
            ]
          },
          "metadata": {},
          "execution_count": 19
        }
      ]
    },
    {
      "cell_type": "code",
      "source": [
        "#training\n",
        "loss_fn = nn.L1Loss()\n",
        "optimizer = torch.optim.SGD(params=model.parameters(), lr=0.001)\n",
        "epochs = 100\n",
        "for epoch in range(epochs):\n",
        "  model.train()\n",
        "  y_pred = model(X_train)\n",
        "  loss = loss_fn(y_pred, y_train)\n",
        "  optimizer.zero_grad()\n",
        "  loss.backward()\n",
        "  optimizer.step()\n",
        "\n",
        "print(f\"epoch: {epoch} loss: {loss}, weight: {model.state_dict()['weight']}, bias: {model.state_dict()['bias']}\")\n",
        "\n"
      ],
      "metadata": {
        "colab": {
          "base_uri": "https://localhost:8080/"
        },
        "id": "2mGp7P335Fen",
        "outputId": "ab6c489d-d9aa-4220-ce74-01c27532bdd3"
      },
      "execution_count": 30,
      "outputs": [
        {
          "output_type": "stream",
          "name": "stdout",
          "text": [
            "epoch: 99 loss: 0.00025573893799446523, weight: tensor([0.6998]), bias: tensor([0.3010])\n"
          ]
        }
      ]
    },
    {
      "cell_type": "markdown",
      "source": [
        "## inferencing"
      ],
      "metadata": {
        "id": "eZFYuyd_uo2U"
      }
    },
    {
      "cell_type": "code",
      "source": [
        "#inferencing after training\n",
        "with torch.inference_mode():\n",
        "  y_pred = model(X_test)\n",
        "y_pred # bad predictions"
      ],
      "metadata": {
        "colab": {
          "base_uri": "https://localhost:8080/"
        },
        "id": "PMY8rRXF4zFD",
        "outputId": "00feb039-8ae1-4490-de37-4e9046fafdcf"
      },
      "execution_count": 31,
      "outputs": [
        {
          "output_type": "execute_result",
          "data": {
            "text/plain": [
              "tensor([[0.8608],\n",
              "        [0.8748],\n",
              "        [0.8888],\n",
              "        [0.9028],\n",
              "        [0.9168],\n",
              "        [0.9308],\n",
              "        [0.9448],\n",
              "        [0.9588],\n",
              "        [0.9728],\n",
              "        [0.9868]])"
            ]
          },
          "metadata": {},
          "execution_count": 31
        }
      ]
    },
    {
      "cell_type": "code",
      "source": [
        "plot_predictions(predictions=y_pred)"
      ],
      "metadata": {
        "colab": {
          "base_uri": "https://localhost:8080/",
          "height": 599
        },
        "id": "I_3_VOMX5BD1",
        "outputId": "742d4c59-146d-40e1-d897-a9355879843b"
      },
      "execution_count": 32,
      "outputs": [
        {
          "output_type": "display_data",
          "data": {
            "text/plain": [
              "<Figure size 1000x700 with 1 Axes>"
            ],
            "image/png": "[encoded data removed]"
          },
          "metadata": {}
        }
      ]
    },
    {
      "cell_type": "code",
      "source": [
        "t1 = torch.tensor([[0.02]])\n",
        "with torch.inference_mode():\n",
        "  pred = model(t1)\n",
        "pred"
      ],
      "metadata": {
        "colab": {
          "base_uri": "https://localhost:8080/"
        },
        "id": "mpMZK7pP6dp7",
        "outputId": "c22cfcbe-5f19-4f67-f4e2-bd986f2a1f3b"
      },
      "execution_count": 33,
      "outputs": [
        {
          "output_type": "execute_result",
          "data": {
            "text/plain": [
              "tensor([[0.3150]])"
            ]
          },
          "metadata": {},
          "execution_count": 33
        }
      ]
    },
    {
      "cell_type": "markdown",
      "source": [
        "## saving and loading model"
      ],
      "metadata": {
        "id": "W8dQLrI0utQL"
      }
    },
    {
      "cell_type": "code",
      "source": [
        "#!mkdir models\n",
        "!pwd"
      ],
      "metadata": {
        "colab": {
          "base_uri": "https://localhost:8080/"
        },
        "id": "3Sg-fQymvA9t",
        "outputId": "60dc1b16-1135-4b70-8194-018a1e4cd320"
      },
      "execution_count": 6,
      "outputs": [
        {
          "output_type": "stream",
          "name": "stdout",
          "text": [
            "/content\n"
          ]
        }
      ]
    },
    {
      "cell_type": "code",
      "source": [
        "#save the model to disk\n",
        "from pathlib import Path\n",
        "path = \"models/regression.pth\"\n",
        "torch.save(obj=model.state_dict(), f=path)"
      ],
      "metadata": {
        "id": "U9szH4wI7XRG"
      },
      "execution_count": 34,
      "outputs": []
    },
    {
      "cell_type": "code",
      "source": [
        "#load the  model from disk\n",
        "loaded_model = MLP().to(device)\n",
        "loaded_model.load_state_dict(torch.load(f=path))\n",
        "\n",
        "#test loaded model\n",
        "with torch.inference_mode():\n",
        "  y_pred = loaded_model(X_test)\n",
        "plot_predictions(predictions=y_pred)\n"
      ],
      "metadata": {
        "colab": {
          "base_uri": "https://localhost:8080/",
          "height": 599
        },
        "id": "bFmakzo5wHZw",
        "outputId": "d4f5d1d3-a0e1-403c-e879-250918847875"
      },
      "execution_count": 35,
      "outputs": [
        {
          "output_type": "display_data",
          "data": {
            "text/plain": [
              "<Figure size 1000x700 with 1 Axes>"
            ],
            "image/png": "[encoded data removed]"
          },
          "metadata": {}
        }
      ]
    }
  ]
}